{
 "cells": [
  {
   "cell_type": "code",
   "execution_count": 3,
   "id": "8a424f56-8955-4c05-b076-67c2707ba232",
   "metadata": {
    "tags": []
   },
   "outputs": [],
   "source": [
    "import time\n",
    "import qpo_search as q\n",
    "import numpy as np\n",
    "import scipy.fft as fft\n",
    "import matplotlib.pyplot as plt\n",
    "import os \n",
    "import glob\n",
    "from scipy import stats\n",
    "from scipy import optimize\n",
    "from astropy.io import fits\n",
    "from scipy.optimize import curve_fit\n",
    "from astropy.io import ascii\n",
    "from astropy.table import Table\n",
    "import csv\n",
    "import math\n",
    "import stingray\n",
    "import lightcurve\n",
    "from stingray import Lightcurve\n",
    "#from stingray import Powerspqpoectrum\n",
    "from stingray import AveragedPowerspectrum\n",
    "from stingray import Crossspectrum\n",
    "from stingray.exceptions import StingrayError\n",
    "from stingray import AveragedCrossspectrum\n",
    "from more_itertools import locate\n",
    "import matplotlib.pylab as pl\n",
    "import matplotlib.gridspec as gridspec\n",
    "import scipy\n",
    "from scipy import stats\n",
    "from scipy import optimize\n",
    "from scipy.stats import f\n",
    "import scipy.integrate as integrate\n",
    "import scipy.special as special\n",
    "from scipy.special import erfinv, erf\n",
    "#from sklearn import preprocessing\n",
    "from pynverse import inversefunc\n",
    "import pynverse\n",
    "import warnings\n",
    "warnings.filterwarnings('ignore')\n",
    "from concurrent.futures import ThreadPoolExecutor\n",
    "from joblib import Parallel, delayed\n",
    "from multiprocessing import Process\n",
    "import threading\n",
    "import multiprocessing as mp\n",
    "from multiprocessing import pool\n",
    "from functools import partial"
   ]
  },
  {
   "cell_type": "code",
   "execution_count": 768,
   "id": "23b459b4-71e5-43bc-831c-0bcc90de3f1d",
   "metadata": {
    "tags": []
   },
   "outputs": [],
   "source": [
    "#defining the modulation function\n",
    "#inputs:\n",
    "# mu=modulation factor , p=polarisation degree, psi=polarisation angle ,phi=modulation angle\n",
    "\n",
    "def mod_function(mu,p,psi,phi):\n",
    "    mod_func=[]\n",
    "    f= (1/np.pi) * (1 + (mu * p * np.cos(2 * (psi-phi)) ) )\n",
    "    mod_func.append(f)\n",
    "    return f\n",
    "\n",
    "\n",
    "#defining the cdf\n",
    "def mod_function_cdf(mu,p,psi,phi):\n",
    "    cdf_array=[]\n",
    "    \n",
    "    for i in phi:\n",
    "        cdf=(1/np.pi) * (i -  (((mu*p) / 2) * np.sin(2*psi - 2*i)) )\n",
    "        cdf_array.append(cdf)\n",
    "    \n",
    "    cdf_norm=[]\n",
    "    for d in cdf_array:\n",
    "        norm=(d-np.min(cdf_array))/(np.max(cdf_array)-np.min(cdf_array))\n",
    "        cdf_norm.append(norm)\n",
    "   \n",
    "\n",
    "\n",
    "\n",
    "def mod_function_cdf_redo(mu,p,psi,phi):\n",
    "    cdf_array=[]\n",
    "    \n",
    "    for i in phi:\n",
    "        cdf=(1/np.pi) * (i +  ((mu*p) / 2)) * (np.sin(2*i-2*psi) +np.sin(2*psi)) \n",
    "        cdf_array.append(cdf)\n",
    "    \n",
    "    cdf_norm=[]\n",
    "    for d in cdf_array:\n",
    "        norm=(d-np.min(cdf_array))/(np.max(cdf_array)-np.min(cdf_array))\n",
    "        cdf_norm.append(norm)\n",
    "    \n",
    "    \n",
    "    #cdf= (cdf - np.min(phi)) /(np.max(phi)-np.min(phi))\n",
    "    #cdf=preprocessing.normalise(cdf)\n",
    "    #cdf=cdf*norm_factor\n",
    "    #cdf=cdf/np.sum(cdf)\n",
    "    \n",
    "    #return cdf_array\n",
    "    return cdf_norm\n",
    "    \n",
    "\n"
   ]
  },
  {
   "cell_type": "code",
   "execution_count": null,
   "id": "51e0cd41-c817-4821-81d5-748ac505595b",
   "metadata": {},
   "outputs": [],
   "source": [
    "DF(phi) = { phi + 0.5*mu*PD * [ sin(2phi-2PA) + sin(2PA) ] }\n",
    "\n"
   ]
  },
  {
   "cell_type": "code",
   "execution_count": 754,
   "id": "4e71b492-b97f-42b6-9afd-79f6ac153035",
   "metadata": {
    "tags": []
   },
   "outputs": [],
   "source": [
    "#assume mu is corresponding to the event energy\n",
    "#assume p and psi are constant\n",
    "\n",
    "#defining the things other than phi that we need for the function\n",
    "\n",
    "with fits.open('/home/c2032014/PhD/CYGX1_MAY/ixpe01002901_det1_evt1pt5_v01.fits') as hdu:\n",
    "    data=hdu[1].data\n",
    "    mue_txt=np.loadtxt('/home/c2032014/PhD/muE.txt')\n",
    "    PI=data.field('PI')\n",
    "    mue=mue_txt[:,2]\n",
    "    modulation_factor=[]\n",
    "    for i in PI:\n",
    "        modulation_factor.append(mue[int(i)])\n",
    "        \n",
    "    p=4\n",
    "    #print(p)\n",
    "    psi=np.radians(-18)\n",
    "    \n",
    "s=np.radians(-18)\n",
    "mod_angle_list=(np.linspace(np.radians(0),np.radians(180),100))\n",
    "#print(np.degrees(mod_angle_list))\n",
    "#modulation_factor=[1/g for g in modulation_factor]\n",
    "#print(modulation_factor[500])"
   ]
  },
  {
   "cell_type": "code",
   "execution_count": 756,
   "id": "8c1a8bbd-f42c-4e83-8ab6-41a6d69f0070",
   "metadata": {
    "tags": []
   },
   "outputs": [
    {
     "name": "stdout",
     "output_type": "stream",
     "text": [
      "Original function: 2*x + 3\n",
      "Inverse function: y/2 - 3/2\n"
     ]
    }
   ],
   "source": [
    "from sympy import symbols, solve\n",
    "\n",
    "# Define the variable and the function\n",
    "x, y = symbols('x y')\n",
    "original_function = 2*x + 3\n",
    "\n",
    "# Solve for x in terms of y to find the inverse function\n",
    "inverse_function = solve(original_function - y, x)[0]\n",
    "\n",
    "# Print the original and inverse functions\n",
    "print(f\"Original function: {original_function}\")\n",
    "print(f\"Inverse function: {inverse_function}\")\n"
   ]
  },
  {
   "cell_type": "code",
   "execution_count": 592,
   "id": "9799b800-d304-491d-9ed2-6f1984571775",
   "metadata": {
    "tags": []
   },
   "outputs": [
    {
     "name": "stdout",
     "output_type": "stream",
     "text": [
      "[0.0, 0.022569348409094636, 0.04449979170047977, 0.06574369692182244, 0.08625619556728853, 0.10599536424717948, 0.1249223934986261, 0.14300174405759825, 0.16020128996297694, 0.1764924479164623, 0.1918502923774263, 0.20625365592926842, 0.21968521451313094, 0.23213155718576978, 0.24358324012068966, 0.25403482463509963, 0.2634848990895703, 0.2719360845722065, 0.2793950243444512, 0.28587235709101594, 0.2913826740816527, 0.29594446041726047, 0.29958002059690797, 0.3023153887054886, 0.304180223583648, 0.30520768940210213, 0.3054343221212257, 0.3048998823736358, 0.30364719536215684, 0.30172197841784426, 0.2991726569124278, 0.2960501692664306, 0.2924077618381288, 0.2883007745192594, 0.28378641790080805, 0.2789235429061514, 0.2737724038191598, 0.2683944156614622, 0.2628519068958305, 0.2572078684514581, 0.2515257000817206, 0.24586895507574502, 0.2403010843517459, 0.23488518096257166, 0.2296837260422493, 0.22475833721651, 0.22016952049035798, 0.21597642661174343, 0.21223661289237727, 0.20900581144475167, 0.2063377047685932, 0.20428370959038328, 0.2028927698263479, 0.20221115950258173, 0.20228229642587653, 0.2031465673555375, 0.2048411653801584, 0.20739994015417995, 0.21085326159727907, 0.21522789760542077, 0.22054690626598916, 0.2268295430110071, 0.23409118308230825, 0.24234325962086406, 0.25159321762956116, 0.2618444839948016, 0.27309645368764174, 0.28534449220002867, 0.2985799542063304, 0.31279021837500964, 0.32795873819027166, 0.3440651085790427, 0.3610851480749986, 0.3789909961887943, 0.3977512255924216, 0.41733096866596553, 0.4376920578972061, 0.45879317956871657, 0.48059004011362383, 0.5030355444701672, 0.5260799857168923, 0.5496712452248789, 0.5737550025210639, 0.5982749540176164, 0.623173039726612, 0.6483896770471131, 0.6738640006832728, 0.6995341077274004, 0.7253373069211221, 0.7512103710909512, 0.7770897917418005, 0.8029120347832774, 0.8286137963590423, 0.8541322577490945, 0.8794053383185855, 0.9043719454946272, 0.9289722207645185, 0.9531477807048488, 0.9768419520709403, 1.0]\n"
     ]
    },
    {
     "data": {
      "image/png": "[encoded data removed]",
      "text/plain": [
       "<Figure size 640x480 with 1 Axes>"
      ]
     },
     "metadata": {},
     "output_type": "display_data"
    },
    {
     "name": "stdout",
     "output_type": "stream",
     "text": [
      "0.0\n",
      "1.0\n"
     ]
    }
   ],
   "source": [
    "cdf_func=mod_function_cdf(modulation_factor[-1],p,psi,mod_angle_list)\n",
    "print(cdf_func)\n",
    "plt.figure()\n",
    "plt.plot(np.degrees(mod_angle_list),cdf_func,'.')\n",
    "#plt.axvline(x=2.6874965)\n",
    "#plt.axhline(y = 0.8)\n",
    "plt.show()\n",
    "\n",
    "\n",
    "print(np.min(cdf_func))\n",
    "print(np.max(cdf_func))"
   ]
  },
  {
   "cell_type": "code",
   "execution_count": 579,
   "id": "38bcb528-a1e2-4707-9351-664c838d40a9",
   "metadata": {
    "tags": []
   },
   "outputs": [
    {
     "data": {
      "image/png": "[encoded data removed]",
      "text/plain": [
       "<Figure size 640x480 with 1 Axes>"
      ]
     },
     "metadata": {},
     "output_type": "display_data"
    },
    {
     "name": "stdout",
     "output_type": "stream",
     "text": [
      "-0.17899355624810126\n",
      "0.8157636037953995\n"
     ]
    }
   ],
   "source": [
    "cdf_func=mod_function(modulation_factor[-1],p,psi,mod_angle_list)\n",
    "#print(cdf_func)\n",
    "plt.figure()\n",
    "plt.plot(np.degrees(mod_angle_list),cdf_func,'.')\n",
    "#plt.axvline(x=2.6874965)\n",
    "#plt.axhline(y = 0.8)\n",
    "plt.show()\n",
    "\n",
    "\n",
    "print(np.min(cdf_func))\n",
    "print(np.max(cdf_func))"
   ]
  },
  {
   "cell_type": "code",
   "execution_count": 698,
   "id": "4aa0b4bf-93ff-4178-8362-3d63ffbd3bb4",
   "metadata": {
    "tags": []
   },
   "outputs": [
    {
     "data": {
      "text/plain": [
       "0.5815501140015282"
      ]
     },
     "execution_count": 698,
     "metadata": {},
     "output_type": "execute_result"
    }
   ],
   "source": [
    "np.random.uniform(0,1)"
   ]
  },
  {
   "cell_type": "code",
   "execution_count": 12,
   "id": "1e78f33f-9ec9-4a1f-acdf-cf52a017592b",
   "metadata": {
    "tags": []
   },
   "outputs": [],
   "source": [
    "#testing we get back the mod function from the cdf\n",
    "\n",
    "def cdf_test(p,psi,modulation_factor):\n",
    "        #polarisation properties\n",
    "        p=p\n",
    "        psi=np.radians(psi)\n",
    "        mu=modulation_factor\n",
    "\n",
    "        mod_angle_array=[]\n",
    "        \n",
    "        \n",
    "        #cdf=(lambda i: (1/np.pi) * (i - (((modulation_factor*p) / 2) * np.sin(2*psi - 2*i)) ) ) old cdf formula\n",
    "        \n",
    "        #cdf=(lambda i: (1/np.pi) * (i +  (modulation_factor*p*0.5) * (np.sin((2*i)-(2*psi)) + np.sin(2*psi))))\n",
    "        phi_min=np.radians(-90)\n",
    "        phi_max=np.radians(90)\n",
    "        cdf=(lambda phi: (1/np.pi)*(phi - phi_min + 0.5*mu*p * ( np.sin( 2*phi - 2*psi ) - np.sin( 2*phi_min - 2*psi )) ))\n",
    "        \n",
    "        cdf_min=cdf(np.radians(-90))\n",
    "        #print(cdf_min)\n",
    "        cdf_max=cdf(np.radians(90))\n",
    "    \n",
    "        mod_angle_list=(np.linspace(np.radians(-90),np.radians(90),100))\n",
    "        cdf_plot=[]\n",
    "        for i in mod_angle_list:\n",
    "            cdf_plot.append(cdf(i))\n",
    "        \n",
    "        \n",
    "        \n",
    "    \n",
    "    \n",
    "        plt.figure()\n",
    "        plt.plot(np.degrees(mod_angle_list),cdf_plot,'.')\n",
    "        plt.show()\n",
    "        random_array=[]\n",
    "        #plt.figure()\n",
    "        for i in range(100000):\n",
    "            #plt.figure()\n",
    "            random=np.random.uniform(cdf_min,cdf_max)\n",
    "            random_array.append(random)\n",
    "            #print('random selection',random)\n",
    "            mod_angle_array.append(inversefunc(cdf, y_values=random))\n",
    "            \n",
    "            #plt.figure()\n",
    "            #plt.plot(mod_angle_array[i],random,color='red')\n",
    "            #plt.plot(np.degrees(mod_angle_list),cdf_plot,'.')\n",
    "            #plt.plot(mod_angle_array[i],random,color='red')\n",
    "            #plt.axvline(x=np.degrees(mod_angle_array[i]))\n",
    "        \n",
    "            #plt.axhline(y = random)\n",
    "            \n",
    "            #plt.show()\n",
    "            \n",
    "            #print('mod angle recovered',np.degrees(mod_angle_array[i]))\n",
    "       \n",
    "    \n",
    "    \n",
    "\n",
    "\n",
    "        #print(len(mod_angle_array))\n",
    "        #np.savetxt('/home/c2032014/PhD/Results/new_null/'+str(source_name)+'_'+str(data_number)+'_.txt',mod_angle_array)\n",
    "        #np.save(f'/home/c2032014/PhD/Results/new_null/{source_name}_{data_number}_newsave.npy',mod_angle_array)\n",
    "        plt.figure()\n",
    "        plt.hist(np.degrees(mod_angle_array),bins=100)\n",
    "        plt.show()\n",
    "        \n",
    "        plt.figure()\n",
    "        plt.plot(np.degrees(mod_angle_array),random_array,'.')\n",
    "        plt.show()\n",
    "        #print(mod_angle_array)\n",
    "        \n",
    "        # Sample array\n",
    "#my_array = [1, 3, 5, 7, 9]\n",
    "\n",
    "# Define minimum and maximum values\n",
    "#minimum_value = 4\n",
    "#maximum_value = 8\n",
    "\n",
    "# Check if any values in the array are within the specified range\n",
    "        if any(25 <= x <= 40 for x in np.degrees(mod_angle_array)):\n",
    "            print(f\"At least one value in the array is between min and max.\")\n",
    "        else:\n",
    "            print(f\"No values in the array are between min and max.\")\n",
    "\n",
    "        \n",
    "\n",
    "        \n"
   ]
  },
  {
   "cell_type": "code",
   "execution_count": 13,
   "id": "afc39acb-838e-47cd-9387-032c9726c67f",
   "metadata": {
    "tags": []
   },
   "outputs": [
    {
     "data": {
      "image/png": "[encoded data removed]",
      "text/plain": [
       "<Figure size 640x480 with 1 Axes>"
      ]
     },
     "metadata": {},
     "output_type": "display_data"
    },
    {
     "data": {
      "image/png": "[encoded data removed]",
      "text/plain": [
       "<Figure size 640x480 with 1 Axes>"
      ]
     },
     "metadata": {},
     "output_type": "display_data"
    },
    {
     "data": {
      "image/png": "[encoded data removed]",
      "text/plain": [
       "<Figure size 640x480 with 1 Axes>"
      ]
     },
     "metadata": {},
     "output_type": "display_data"
    },
    {
     "name": "stdout",
     "output_type": "stream",
     "text": [
      "At least one value in the array is between min and max.\n"
     ]
    }
   ],
   "source": [
    "cdf_test(0.04,-18,0.3)"
   ]
  },
  {
   "cell_type": "markdown",
   "id": "bda1367f-a639-43e3-a6fb-a1a7af010851",
   "metadata": {},
   "source": [
    "#So if were using the individual modulation factor for each photon, does this mean that we have a new cdf function for each event which we want to generate a modulation angle for?"
   ]
  },
  {
   "cell_type": "code",
   "execution_count": 63,
   "id": "37ace945-3b47-4d3d-bb72-5f314812b57f",
   "metadata": {},
   "outputs": [],
   "source": [
    "#random number between 0 and 1\n",
    "\n",
    "random=np.random.uniform(0,1)"
   ]
  },
  {
   "cell_type": "raw",
   "id": "18ba43a6-8971-4d84-8a2c-6d5ace4cea29",
   "metadata": {},
   "source": [
    "from sympy import symbols, Eq, solve\n",
    "\n",
    "# Define the variables\n",
    "x, y = symbols('x y')\n",
    "\n",
    "# Define the equation or function\n",
    "equation = Eq(x**2 + 3*x - 2, y)\n",
    "\n",
    "# Solve for x in terms of y\n",
    "solution = solve(equation, x)\n",
    "\n",
    "print(solution)\n"
   ]
  },
  {
   "cell_type": "code",
   "execution_count": 229,
   "id": "6e0b2c18-f780-4b76-8249-b79861712bef",
   "metadata": {
    "tags": []
   },
   "outputs": [
    {
     "data": {
      "text/plain": [
       "array(1.6948736)"
      ]
     },
     "execution_count": 229,
     "metadata": {},
     "output_type": "execute_result"
    }
   ],
   "source": [
    "#example of inv code!\n",
    "mu=modulation_factor[-1]\n",
    "\n",
    "\n",
    "cube = (lambda i: (1/np.pi) * (i -  (((mu*p) / 2) * np.sin(2*psi - 2*i)) ))\n",
    "invcube = inversefunc(cube, y_values=0.148, domain=[np.radians(0),np.radians(180)])\n",
    "invcube\n"
   ]
  },
  {
   "cell_type": "markdown",
   "id": "50277327-47bb-4e57-bf4d-18ef75955106",
   "metadata": {},
   "source": [
    "## I need to figure out a way to input the normalised function into the inverse code so i can select the y value based on the 0 to 1 range!\n",
    "\n",
    "## Maybe i dont have to normalise if i set the y value to select between just the min and max value!\n"
   ]
  },
  {
   "cell_type": "code",
   "execution_count": 37,
   "id": "aad5d15d-11ab-401d-bc9c-d2de82586812",
   "metadata": {},
   "outputs": [
    {
     "name": "stdout",
     "output_type": "stream",
     "text": [
      "1 2 103  411  125  13 14 "
     ]
    }
   ],
   "source": [
    "#Learning about paralellisation:\n",
    "\n",
    "from multiprocessing import Process\n",
    "\n",
    "def numbers(start_num):\n",
    "    for i in range(5):\n",
    "        print(start_num+i, end=' ')\n",
    "\n",
    "if __name__ == '__main__':\n",
    "    p1 = Process(target=numbers, args=(1,))\n",
    "    p2 = Process(target=numbers, args=(10,))\n",
    "    p1.start()\n",
    "    p2.start()\n",
    "    # wait for the processes to finish\n",
    "    p1.join()\n",
    "    p2.join()"
   ]
  },
  {
   "cell_type": "code",
   "execution_count": 133,
   "id": "5cfb747c-1aa4-453b-8469-22ef242dfce8",
   "metadata": {
    "tags": []
   },
   "outputs": [
    {
     "name": "stdout",
     "output_type": "stream",
     "text": [
      "Program finished!\n"
     ]
    }
   ],
   "source": [
    "from multiprocessing import Pool\n",
    "import time\n",
    "import math\n",
    "\n",
    "N = 5000000\n",
    "\n",
    "def cube(x):\n",
    "    return math.sqrt(x)\n",
    "\n",
    "if __name__ == \"__main__\":\n",
    "    with Pool() as pool:\n",
    "        result = pool.map(cube, range(10,N))\n",
    "    print(\"Program finished!\")\n"
   ]
  },
  {
   "cell_type": "markdown",
   "id": "6ffadd9a-c716-44ee-8cdd-cc260c0021c4",
   "metadata": {
    "tags": []
   },
   "source": [
    "# The following function is going to generate a modulation angle per event based on the calculated cdf function based on the modultion factor calculated from its PI value.\n",
    "\n"
   ]
  },
  {
   "cell_type": "code",
   "execution_count": 103,
   "id": "be67fca5-c15b-4809-a2e2-aebad674eae3",
   "metadata": {
    "tags": []
   },
   "outputs": [],
   "source": [
    "def new_null_func(source_name,data_number,file,mue_file,Pmin,Pmax,p,psi):\n",
    "    with fits.open(file) as hdu:\n",
    "        data=hdu[1].data[:1000]\n",
    "        \n",
    "        #index_qual=list(locate(data.field('QUAL'), lambda x: x==1))  #quality factor cut\n",
    "        data=data[list(locate(data.field('QUAL'), lambda x: x==1))]\n",
    "        \n",
    "        #index_energy=list(locate(data.field('PI'), lambda x: Pmin < x < Pmax))  #energy cut \n",
    "        data=data[list(locate(data.field('PI'), lambda x: Pmin < x < Pmax))]\n",
    "        \n",
    "        \n",
    "        #determine mod factor per event\n",
    "        \n",
    "        #PI=data.field('PI')\n",
    "        mue=np.loadtxt(mue_file)[:,2]\n",
    "        modulation_factor=np.array([mue[int(i)] for i in data.field('PI')])\n",
    "\n",
    "\n",
    "        #polarisation properties\n",
    "        p,psi=p,np.radians(psi)\n",
    "\n",
    " \n",
    "        # Calculate cdf_min and cdf_max for the entire array\n",
    "        cdf_min_all = (1 / np.pi) * (np.radians(0) - ((modulation_factor * p) / 2) * np.sin(2 * psi))\n",
    "        cdf_max_all = (1 / np.pi) * (np.radians(180) - ((modulation_factor * p) / 2) * np.sin(2 * psi))\n",
    "\n",
    "        # Generate random values for the entire array\n",
    "        random_all = np.random.uniform(cdf_min_all, cdf_max_all, size=len(modulation_factor))\n",
    "\n",
    "        # Define the cdf function for the entire array\n",
    "        def cdf_func(i,mod_fac):\n",
    "            return (1 / np.pi) * (i - ((mod_fac * p) / 2) * np.sin(2 * psi - 2 * i))\n",
    "\n",
    "\n",
    "        \n",
    "        # Calculate mod_angle_array for the entire array\n",
    "       # mod_angle_array = inversefunc(cdf_func, y_values=random_all)\n",
    "        mod_angle_array=np.array([inversefunc(cdf_func, args=(mod_fac,), y_values=random_val) for mod_fac, random_val in zip(modulation_factor, random_all)])\n",
    "\n",
    "\n",
    "            \n",
    "\n",
    "         \n",
    "\n",
    "\n",
    "        #print(len(mod_angle_array))\n",
    "        np.savetxt('/home/c2032014/PhD/Results/new_null/'+str(source_name)+'_'+str(data_number)+'_.txt',mod_angle_array)\n",
    "        \n",
    "        \n",
    "        \n"
   ]
  },
  {
   "cell_type": "code",
   "execution_count": 22,
   "id": "2aeb465f-3921-4c58-a404-8e2edd9ea858",
   "metadata": {
    "tags": []
   },
   "outputs": [
    {
     "name": "stdout",
     "output_type": "stream",
     "text": [
      "0.1543032310000001\n"
     ]
    }
   ],
   "source": [
    "start=time.process_time()\n",
    "new_null_func('cygx1_may','1','/home/c2032014/PhD/CYGX1_MAY/ixpe01002901_det1_evt1pt5_v01.fits','/home/c2032014/PhD/muE.txt',51,200,4,-18)\n",
    "stop=time.process_time()\n",
    "print(stop-start)"
   ]
  },
  {
   "cell_type": "raw",
   "id": "b26a7534-d1c5-4872-9ca7-54b40c55ca1f",
   "metadata": {},
   "source": [
    "def new_null_par1(source_name,data_number,file,mue_file,Pmin,Pmax,p,psi):\n",
    "    with fits.open(file) as hdu:\n",
    "        data=hdu[1].data[:1000]\n",
    "        \n",
    "        #index_qual=list(locate(data.field('QUAL'), lambda x: x==1))  #quality factor cut\n",
    "        data=data[list(locate(data.field('QUAL'), lambda x: x==1))]\n",
    "        \n",
    "        #index_energy=list(locate(data.field('PI'), lambda x: Pmin < x < Pmax))  #energy cut \n",
    "        data=data[list(locate(data.field('PI'), lambda x: Pmin < x < Pmax))]\n",
    "        \n",
    "        \n",
    "        #determine mod factor per event\n",
    "        \n",
    "        #PI=data.field('PI')\n",
    "        mue=np.loadtxt(mue_file)[:,2]\n",
    "        modulation_factor=np.array([mue[int(i)] for i in data.field('PI')])\n",
    "\n",
    "\n",
    "        #polarisation properties\n",
    "        p,psi=p,np.radians(psi)\n",
    "\n",
    " \n",
    "        # Calculate cdf_min and cdf_max for the entire array\n",
    "        cdf_min_all = (1 / np.pi) * (np.radians(0) - ((modulation_factor * p) / 2) * np.sin(2 * psi))\n",
    "        cdf_max_all = (1 / np.pi) * (np.radians(180) - ((modulation_factor * p) / 2) * np.sin(2 * psi))\n",
    "\n",
    "        # Generate random values for the entire array\n",
    "        random_all = np.random.uniform(cdf_min_all, cdf_max_all, size=len(modulation_factor))\n",
    "\n",
    "        # Define the cdf function for the entire array\n",
    "       # def cdf_func(i,mod_fac):\n",
    "       #     return (1 / np.pi) * (i - ((mod_fac * p) / 2) * np.sin(2 * psi - 2 * i))\n",
    "\n",
    "        #mod_angle_array=[]\n",
    "  #      def compute_mod_angle(mod_fac,random_val):\n",
    "            #y= inversefunc(cdf_func, args=(mod_fac,), y_values=random_val)\n",
    "            #mod_angle_array.append(y)\n",
    "  #          cdf_vec=np.vectorize((lambda i,mod_fac:((1 / np.pi) * (i - ((mod_fac * p) / 2) * np.sin(2 * psi - 2 * i)))))\n",
    "            #return np.vectorize(inversefunc(cdf,args=(mod_fac,), y_values=random_val))\n",
    "  #          invf=np.vectorize(inversefunc)\n",
    "  #          return invf(lambda x: cdf_vec(x,mod_fac),y_values=random_val)\n",
    "            \n",
    "        cdf=np.vectorize((lambda i,mod_fac: (1/np.pi) * (i -  (((mod_fac*p) / 2) * np.sin(2*psi - 2*i)) ) ) )\n",
    "        \n",
    "        #def cdf_func(i,mod_fac):\n",
    "        #    return (1 / np.pi) * (i - ((mod_fac * p) / 2) * np.sin(2 * psi - 2 * i))\n",
    "\n",
    "        def compute_mod_angle(mod_fac, random_val):\n",
    "            return [inversefunc(lambda x:cdf(x,mod_fac[g]),y_values=random_val[g]) for g in range(len(mod_fac))]\n",
    "        \n",
    "\n",
    "\n",
    "        if __name__ == \"__main__\":\n",
    "            with Pool() as pool:\n",
    "                result = pool.map(compute_mod_angle, (modulation_factor, random_all))\n",
    "            print(\"Program finished!\")\n",
    "        \n",
    "        #cdf_vec=np.vectorize((lambda i,mod_fac: (1/np.pi) * (i -  (((mod_fac*p) / 2) * np.sin(2*psi - 2*i)) ) ) )\n",
    "\n",
    "        #mod_angle_array=np.array([inversefunc(lambda x,y,z:cdf_vec(x,mod_fac=y[g]),y_values=z[g]) for g in range(len(modulation_factor))])\n",
    "         #mod_angle_array=np.array([inversefunc(cdf_func, args=(mod_fac,), y_values=random_val) for mod_fac, random_val in zip(modulation_factor, random_all)])\n",
    "        \n",
    "        \n",
    "        # Calculate mod_angle_array for the entire array\n",
    "       # mod_angle_array = inversefunc(cdf_func, y_values=random_all)\n",
    "       # mod_angle_array=np.array([inversefunc(cdf_func, args=(mod_fac,), y_values=random_val) for mod_fac, random_val in zip(modulation_factor, random_all)])\n",
    "\n",
    "\n",
    "     #   if __name__ == '__main__':\n",
    "     #       p1 = threading.Thread(target=compute_mod_angle, args=(np.array(modulation_factor[:len(modulation_factor)//2]),np.array(random_all[:len(random_all)//2]),))\n",
    "     #       p2 = threading.Thread(target=compute_mod_angle, args=(modulation_factor[len(modulation_factor)//2:],random_all[len(random_all)//2:],))\n",
    "     #       p1.start()\n",
    "     #       p2.start()\n",
    "   #         # wait for the processes to finish\n",
    "     #       p1.join()\n",
    "     #       p2.join()\n",
    "\n",
    "         \n",
    "#\n",
    "       #     mod_angle_array=np.array([inversefunc(lambda x:cdf_vec(x,mod_fac=modulation_factor[g]),y_values=random[g]) for g in range(len(modulation_factor))])\n",
    "\n",
    " #  mod_angle_array=np.array([inversefunc(lambda x:cdf_vec(x,mod_fac=modulation_factor[g]),y_values=random[g]) for g in range(len(modulation_factor))])\n",
    "        #print(len(mod_angle_array))\n",
    "        #np.savetxt('/home/c2032014/PhD/Results/new_null/'+str(source_name)+'_'+str(data_number)+'_.txt',mod_angle_array)\n",
    "        \n",
    "        \n",
    "        "
   ]
  },
  {
   "cell_type": "markdown",
   "id": "49187940-c9c4-43dd-8e6f-4d950b9d5efd",
   "metadata": {
    "tags": []
   },
   "source": [
    "start=time.process_time()\n",
    "new_null_par1('cygx1_may','1','/home/c2032014/PhD/CYGX1_MAY/ixpe01002901_det1_evt1pt5_v01.fits','/home/c2032014/PhD/muE.txt',51,200,4,-18)\n",
    "stop=time.process_time()\n",
    "print(stop-start)"
   ]
  },
  {
   "cell_type": "raw",
   "id": "f15d9ea4-ee79-40fd-85a4-1487f328bbe3",
   "metadata": {
    "tags": []
   },
   "source": [
    "def new_null_par_thread(source_name,data_number,file,mue_file,Pmin,Pmax,p,psi):\n",
    "    with fits.open(file) as hdu:\n",
    "        data=hdu[1].data[:1000]\n",
    "        \n",
    "        #index_qual=list(locate(data.field('QUAL'), lambda x: x==1))  #quality factor cut\n",
    "        data=data[list(locate(data.field('QUAL'), lambda x: x==1))]\n",
    "        \n",
    "        #index_energy=list(locate(data.field('PI'), lambda x: Pmin < x < Pmax))  #energy cut \n",
    "        data=data[list(locate(data.field('PI'), lambda x: Pmin < x < Pmax))]\n",
    "        \n",
    "        \n",
    "        #determine mod factor per event\n",
    "        \n",
    "        #PI=data.field('PI')\n",
    "        mue=np.loadtxt(mue_file)[:,2]\n",
    "        modulation_factor=np.array([mue[int(i)] for i in data.field('PI')])\n",
    "\n",
    "\n",
    "        #polarisation properties\n",
    "        p,psi=p,np.radians(psi)\n",
    "\n",
    " \n",
    "        # Calculate cdf_min and cdf_max for the entire array\n",
    "        cdf_min_all = (1 / np.pi) * (np.radians(0) - ((modulation_factor * p) / 2) * np.sin(2 * psi))\n",
    "        cdf_max_all = (1 / np.pi) * (np.radians(180) - ((modulation_factor * p) / 2) * np.sin(2 * psi))\n",
    "\n",
    "        # Generate random values for the entire array\n",
    "        random_all = np.random.uniform(cdf_min_all, cdf_max_all, size=len(modulation_factor))\n",
    "\n",
    "        # Define the cdf function for the entire array\n",
    "       # def cdf_func(i,mod_fac):\n",
    "       #     return (1 / np.pi) * (i - ((mod_fac * p) / 2) * np.sin(2 * psi - 2 * i))\n",
    "\n",
    "        #mod_angle_array=[]\n",
    "  #      def compute_mod_angle(mod_fac,random_val):\n",
    "            #y= inversefunc(cdf_func, args=(mod_fac,), y_values=random_val)\n",
    "            #mod_angle_array.append(y)\n",
    "  #          cdf_vec=np.vectorize((lambda i,mod_fac:((1 / np.pi) * (i - ((mod_fac * p) / 2) * np.sin(2 * psi - 2 * i)))))\n",
    "            #return np.vectorize(inversefunc(cdf,args=(mod_fac,), y_values=random_val))\n",
    "  #          invf=np.vectorize(inversefunc)\n",
    "  #          return invf(lambda x: cdf_vec(x,mod_fac),y_values=random_val)\n",
    "            \n",
    "        cdf=np.vectorize((lambda i,mod_fac: (1/np.pi) * (i -  (((mod_fac*p) / 2) * np.sin(2*psi - 2*i)) ) ) )\n",
    "        \n",
    "        #def cdf_func(i,mod_fac):\n",
    "        #    return (1 / np.pi) * (i - ((mod_fac * p) / 2) * np.sin(2 * psi - 2 * i))\n",
    "\n",
    "        def compute_mod_angle(mod_fac, random_val):\n",
    "            return [inversefunc(lambda x:cdf(x,mod_fac[g]),y_values=random_val[g]) for g in range(len(mod_fac))]\n",
    "        \n",
    "\n",
    "\n",
    "  #      if __name__ == \"__main__\":\n",
    "  #          with Pool() as pool:\n",
    "  #              result = pool.map(compute_mod_angle, (modulation_factor, random_all))\n",
    "  #          print(\"Program finished!\")\n",
    "        \n",
    "        #cdf_vec=np.vectorize((lambda i,mod_fac: (1/np.pi) * (i -  (((mod_fac*p) / 2) * np.sin(2*psi - 2*i)) ) ) )\n",
    "\n",
    "        #mod_angle_array=np.array([inversefunc(lambda x,y,z:cdf_vec(x,mod_fac=y[g]),y_values=z[g]) for g in range(len(modulation_factor))])\n",
    "         #mod_angle_array=np.array([inversefunc(cdf_func, args=(mod_fac,), y_values=random_val) for mod_fac, random_val in zip(modulation_factor, random_all)])\n",
    "        \n",
    "        \n",
    "        # Calculate mod_angle_array for the entire array\n",
    "       # mod_angle_array = inversefunc(cdf_func, y_values=random_all)\n",
    "       # mod_angle_array=np.array([inversefunc(cdf_func, args=(mod_fac,), y_values=random_val) for mod_fac, random_val in zip(modulation_factor, random_all)])\n",
    "\n",
    "\n",
    "        if __name__ == '__main__':\n",
    "            p1 = threading.Thread(target=compute_mod_angle, args=(np.array(modulation_factor[:len(modulation_factor)//2]),np.array(random_all[:len(random_all)//2]),))\n",
    "            p2 = threading.Thread(target=compute_mod_angle, args=(modulation_factor[len(modulation_factor)//2:],random_all[len(random_all)//2:],))\n",
    "            p1.start()\n",
    "            p2.start()\n",
    "   #         # wait for the processes to finish\n",
    "            p1.join()\n",
    "            p2.join()\n",
    "\n",
    "         \n",
    "#\n",
    "       #     mod_angle_array=np.array([inversefunc(lambda x:cdf_vec(x,mod_fac=modulation_factor[g]),y_values=random[g]) for g in range(len(modulation_factor))])\n",
    "\n",
    " #  mod_angle_array=np.array([inversefunc(lambda x:cdf_vec(x,mod_fac=modulation_factor[g]),y_values=random[g]) for g in range(len(modulation_factor))])\n",
    "        #print(len(mod_angle_array))\n",
    "        #np.savetxt('/home/c2032014/PhD/Results/new_null/'+str(source_name)+'_'+str(data_number)+'_.txt',mod_angle_array)\n",
    "        \n",
    "        \n",
    "        "
   ]
  },
  {
   "cell_type": "code",
   "execution_count": null,
   "id": "1c18dbe4-9e39-4098-b2b9-eafa374659a8",
   "metadata": {},
   "outputs": [],
   "source": [
    "start=time.process_time()\n",
    "new_null_new_par2('cygx1_may','1','/home/c2032014/PhD/CYGX1_MAY/ixpe01002901_det1_evt1pt5_v01.fits','/home/c2032014/PhD/muE.txt',51,200,4,-18)\n",
    "stop=time.process_time()\n",
    "print(stop-start)"
   ]
  },
  {
   "cell_type": "code",
   "execution_count": 17,
   "id": "ba926270-781f-435d-a9ef-0af3b4ba532f",
   "metadata": {
    "tags": []
   },
   "outputs": [],
   "source": [
    "def new_null_new_par2(source_name,data_number,file,mue_file,Pmin,Pmax,p,psi):\n",
    "    with fits.open(file) as hdu:\n",
    "        data=hdu[1].data[:1000]\n",
    "        \n",
    "        #index_qual=list(locate(data.field('QUAL'), lambda x: x==1))  #quality factor cut\n",
    "        data=data[list(locate(data.field('QUAL'), lambda x: x==1))]\n",
    "        \n",
    "        #index_energy=list(locate(data.field('PI'), lambda x: Pmin < x < Pmax))  #energy cut \n",
    "        data=data[list(locate(data.field('PI'), lambda x: Pmin < x < Pmax))]\n",
    "        \n",
    "        \n",
    "        #determine mod factor per event\n",
    "        \n",
    "        #PI=data.field('PI')\n",
    "        mue=np.loadtxt(mue_file)[:,2]\n",
    "        #mue=mue_txt[:,2]\n",
    "\n",
    "        modulation_factor=np.array([mue[int(i)] for i in data.field('PI')])\n",
    "        #for i in data.field('PI'):\n",
    "        #    modulation_factor.append(mue[int(i)])\n",
    "\n",
    "\n",
    "\n",
    "        #polarisation properties\n",
    "        p,psi=p,np.radians(psi)\n",
    "             \n",
    "        # Calculate cdf_min and cdf_max for the entire array\n",
    "        cdf_min_all = (1 / np.pi) * (np.radians(0) - ((modulation_factor * p) / 2) * np.sin(2 * psi))\n",
    "        cdf_max_all = (1 / np.pi) * (np.radians(180) - ((modulation_factor * p) / 2) * np.sin(2 * psi))\n",
    "\n",
    "        # Generate random values for the entire array\n",
    "        random_all = np.random.uniform(cdf_min_all, cdf_max_all, size=len(modulation_factor))\n",
    "\n",
    "        # Define the cdf function for the entire array\n",
    "        def cdf_func(i,mod_fac):\n",
    "            return (1 / np.pi) * (i - ((mod_fac * p) / 2) * np.sin(2 * psi - 2 * i))\n",
    "\n",
    "        #mod_angle_array=np.array([inversefunc(cdf_func, args=(mod_fac,), y_values=random_val) for mod_fac, random_val in zip(modulation_factor, random_all)])\n",
    "\n",
    "\n",
    "        \n",
    "        \n",
    "        \n",
    "        def compute_mod_angle(mod_fac, random_val):\n",
    "            return inversefunc(cdf_func, args=(mod_fac,), y_values=random_val)\n",
    "\n",
    "        mod_angle_array = np.array(Parallel(n_jobs=8)(delayed(compute_mod_angle)(mod_fac, random_val) for mod_fac, random_val in zip(modulation_factor, random_all)))\n",
    "\n",
    "\n",
    "\n",
    "         \n",
    "\n",
    "\n",
    "        #print(len(mod_angle_array))\n",
    "        np.savetxt('/home/c2032014/PhD/Results/new_null/'+str(source_name)+'_'+str(data_number)+'_.txt',mod_angle_array)\n",
    "        "
   ]
  },
  {
   "cell_type": "raw",
   "id": "0e27406f-e398-49ac-9d73-31f7aeb1b941",
   "metadata": {
    "tags": []
   },
   "source": [
    "start=time.process_time()\n",
    "new_null_new_par2('cygx1_may','1','/home/c2032014/PhD/CYGX1_MAY/ixpe01002901_det1_evt1pt5_v01.fits','/home/c2032014/PhD/muE.txt',51,200,4,-18)\n",
    "stop=time.process_time()\n",
    "print(stop-start)"
   ]
  },
  {
   "cell_type": "code",
   "execution_count": 563,
   "id": "0d57c531-a816-4f0f-aae0-1c87d8c270e3",
   "metadata": {
    "tags": []
   },
   "outputs": [],
   "source": [
    "def new_null(source_name,data_number,file,mue_file,Pmin,Pmax,p,psi):\n",
    "    with fits.open(file) as hdu:\n",
    "        data=hdu[1].data[:1000000]\n",
    "        \n",
    "        #index_qual=list(locate(data.field('QUAL'), lambda x: x==1))  #quality factor cut\n",
    "        #data=data[list(locate(data.field('QUAL'), lambda x: x==1))]\n",
    "        \n",
    "        #index_energy=list(locate(data.field('PI'), lambda x: Pmin < x < Pmax))  #energy cut \n",
    "        #data=data[list(locate(data.field('PI'), lambda x: Pmin < x < Pmax))]\n",
    "        \n",
    "        \n",
    "        #determine mod factor per event\n",
    "        \n",
    "        #PI=data.field('PI')\n",
    "        mue=np.loadtxt(mue_file)[:,2]\n",
    "        #mue=mue_txt[:,2]\n",
    "\n",
    "        modulation_factor=np.array([mue[int(i)] for i in data.field('PI')])\n",
    "\n",
    "\n",
    "        #polarisation properties\n",
    "        p=p\n",
    "        psi=np.radians(psi)\n",
    "\n",
    "        mod_angle_array=[]\n",
    "        \n",
    "        #print('ere we go')\n",
    "        \n",
    "        for mod_fac in modulation_factor:\n",
    "            #print(mod_fac)\n",
    "            #print(p)\n",
    "            #print(psi)\n",
    "            cdf=(lambda i: (1/np.pi) * (i + (((mod_fac*p) / 2) * np.sin(2*psi - 2*i)) ) ) \n",
    "            cdf_min=0#cdf(np.radians(0))\n",
    "            cdf_max=cdf(np.radians(180))\n",
    "            random=np.random.uniform(cdf_min,cdf_max)\n",
    "            #print(cdf_min)\n",
    "            #print(cdf_max)\n",
    "            #ma=inversefunc(cdf, y_values=cdf_max/2)\n",
    "            #print(ma)\n",
    "            mod_angle_array.append(inversefunc(cdf, y_values=random))\n",
    "        #print(mod_angle_array)\n",
    "         \n",
    "\n",
    "\n",
    "        #print(len(mod_angle_array))\n",
    "        np.savetxt('/home/c2032014/PhD/Results/new_null/'+str(source_name)+'_'+str(data_number)+'_.txt',mod_angle_array)\n",
    "        np.save(f'/home/c2032014/PhD/Results/new_null/{source_name}_{data_number}_newsave.npy',mod_angle_array)\n",
    "        plt.figure()\n",
    "        plt.hist(np.degrees(mod_angle_array),bins=1000)\n",
    "        plt.show()\n",
    "        \n",
    "\n",
    "        "
   ]
  },
  {
   "cell_type": "code",
   "execution_count": 564,
   "id": "2b471bdb-6437-4936-9337-b325e70ac6ac",
   "metadata": {
    "tags": []
   },
   "outputs": [
    {
     "data": {
      "image/png": "[encoded data removed]",
      "text/plain": [
       "<Figure size 640x480 with 1 Axes>"
      ]
     },
     "metadata": {},
     "output_type": "display_data"
    },
    {
     "name": "stdout",
     "output_type": "stream",
     "text": [
      "189.47215389199982\n"
     ]
    }
   ],
   "source": [
    "start=time.process_time()\n",
    "new_null('cygx1_may','1','/home/c2032014/PhD/CYGX1_MAY/ixpe01002901_det1_evt1pt5_v01.fits','/home/c2032014/PhD/muE.txt',51,200,4,-18)\n",
    "stop=time.process_time()\n",
    "print(stop-start)"
   ]
  },
  {
   "cell_type": "code",
   "execution_count": 700,
   "id": "6cfb9396-d43b-441f-b67b-52c886f9463d",
   "metadata": {
    "tags": []
   },
   "outputs": [],
   "source": [
    " #ORIGINAL\n",
    "def cdf_func(mod_factor_split,p,psi,source_name,data_number):\n",
    "    #print(mod_factor_split)\n",
    "    #print(mod_factor_split[1])\n",
    "    #print('kms')\n",
    "    #print(mod_factor_split[0])\n",
    "    p,psi=p,psi\n",
    "    mod_angle_array=[]\n",
    "\n",
    "    for mod_fac in mod_factor_split[0]:\n",
    "        #print('mod fac',mod_fac)\n",
    "        #print(mod_factor_split[0])\n",
    "        #print(mod_fac)\n",
    "        #print(p)\n",
    "        #rint(psi\n",
    "        #print(np.degrees(psi))\n",
    "        cdf=(lambda i: (1/np.pi) * (i -  (((mod_fac*p) / 2) * np.sin(2*psi - 2*i)) ) ) \n",
    "        #print(mod_fac)\n",
    "        cdf_min=cdf(np.radians(0))\n",
    "        #print(cdf_min)\n",
    "        cdf_max=cdf(np.radians(180))\n",
    "        #print(cdf_max)\n",
    "        random=np.random.uniform(cdf_min,cdf_max)\n",
    "        ma=(inversefunc(cdf, y_values=cdf_max/2))\n",
    "        #print(ma)\n",
    "        mod_angle_array.append(inversefunc(cdf, y_values=cdf_max/2))\n",
    "        \n",
    "    #print(mod_angle_array)\n",
    "        \n",
    "        \n",
    "        #cdf=(lambda i: (1/np.pi) * (i -  (((mod_fac*p) / 2) * np.sin(2*psi - 2*i)) ) ) \n",
    "        #cdf_min,cdf_max=cdf(np.radians(0)),cdf(np.radians(180))\n",
    "       # random=np.random.uniform(cdf_min,cdf_max)\n",
    "        #print(cdf_max)\n",
    "       ## ma=(inversefunc(cdf, y_values=cdf_max/2))\n",
    "       # print(ma)\n",
    "      # mod_angle_array.append(inversefunc(cdf, y_values=cdf_max/2))\n",
    "    \n",
    "    #print(mod_angle_array)\n",
    "        #print(mod_factor_split[1])\n",
    "    np.save(f'/home/c2032014/PhD/Results/new_null/{source_name}_{data_number}_{mod_factor_split[1]}_mod_angles_newnull.npy',mod_angle_array)\n",
    "    #print('done')\n",
    "   # np.save(f'/home/c2032014/PhD/Results/new_null/{mod_fac[1]}_mod_angles_newnull.npy',mod_angle_array)\n",
    "    \n",
    "def new_null_original_par2(source_name,data_number,file,mue_file,Pmin,Pmax,p,psi,cpu_num):\n",
    "    with fits.open(file) as hdu:\n",
    "        data=hdu[1].data[:10000]\n",
    "        \n",
    "        #data=data[list(locate(data.field('QUAL'), lambda x: x==1))]\n",
    "        #data=data[list(locate(data.field('PI'), lambda x: Pmin < x < Pmax))]\n",
    "        \n",
    "        #determine mod factor per event\n",
    "        \n",
    "        #PI=data.field('PI')\n",
    "        mue=np.loadtxt(mue_file)[:,2]\n",
    "        modulation_factor=np.array([mue[int(i)] for i in data.field('PI')])\n",
    "        print('mod factor',modulation_factor)\n",
    "        \n",
    "        #polarisation properties\n",
    "        p,psi=p,np.radians(psi)\n",
    "\n",
    "        mod_factor_split=np.array_split(modulation_factor,cpu_num)\n",
    "        #print('mod factor split',mod_factor_split)\n",
    "       \n",
    "        split_tag=list(range(len(mod_factor_split)))\n",
    "        mod_factor_split_tagged=list(zip(mod_factor_split,split_tag))\n",
    "        #print('mod split tag ',mod_factor_split_tagged)\n",
    "        #print('')\n",
    "        #print('')\n",
    "        #print('mod split tag 1',mod_factor_split_tagged[1])\n",
    "        cdf_func_partial=partial(cdf_func,p=p,psi=psi,source_name=source_name,data_number=data_number)\n",
    "        \n",
    "\n",
    "        \n",
    "        \n",
    "        with Pool(processes=cpu_num) as pool:\n",
    "            result = pool.map(cdf_func_partial, mod_factor_split_tagged)"
   ]
  },
  {
   "cell_type": "code",
   "execution_count": 4,
   "id": "826b6a8f-83d0-4668-8499-b1523290f299",
   "metadata": {
    "tags": []
   },
   "outputs": [
    {
     "name": "stdout",
     "output_type": "stream",
     "text": [
      "[0 1 2 3 4 5]\n"
     ]
    }
   ],
   "source": [
    "print(np.array(range(6)))"
   ]
  },
  {
   "cell_type": "raw",
   "id": "0b9ea2f3-910e-465e-b4b6-446c51475a05",
   "metadata": {
    "tags": []
   },
   "source": [
    "#EDITED \n",
    "def cdf_func(mod_factor_split,p,psi):\n",
    "    p,psi=p,np.radians(psi)\n",
    "    mod_angle_array=[]\n",
    "\n",
    "    for mod_fac in mod_factor_split[0]:\n",
    "        #print('mod fac',mod_fac)\n",
    "        #print(mod_factor_split[0])\n",
    "        #print(mod_fac[0])\n",
    "        cdf=lambda i: (1/np.pi) * (i -  (((mod_fac*p) / 2) * np.sin(2*psi - 2*i)) )\n",
    "        cdf_min,cdf_max=cdf(np.radians(0)),cdf(np.radians(180))\n",
    "        random=np.random.uniform(cdf_min,cdf_max)\n",
    "        mod_angle_array.append(inversefunc(cdf, y_values=random))\n",
    "    \n",
    "    #print(mod_angle_array)\n",
    "    #print(mod_factor_split[1])\n",
    "    np.save(f'/home/c2032014/PhD/Results/new_null/{mod_factor_split[1]}_mod_angles_newnull.npy',mod_angle_array)\n",
    "   # np.save(f'/home/c2032014/PhD/Results/new_null/{mod_fac[1]}_mod_angles_newnull.npy',mod_angle_array)\n",
    "    \n",
    "def new_null_original_par2(source_name,data_number,file,mue_file,Pmin,Pmax,p,psi,cpu_num):\n",
    "    with fits.open(file) as hdu:\n",
    "        data=hdu[1].data[:1000]\n",
    "        \n",
    "        data=data[list(locate(data.field('QUAL'), lambda x: x==1))]\n",
    "        data=data[list(locate(data.field('PI'), lambda x: Pmin < x < Pmax))]\n",
    "        \n",
    "        #determine mod factor per event\n",
    "        \n",
    "        #PI=data.field('PI')\n",
    "        mue=np.loadtxt(mue_file)[:,2]\n",
    "        modulation_factor=np.array([mue[int(i)] for i in data.field('PI')])\n",
    "        #print('mod factor',modulation_factor)\n",
    "        \n",
    "        #polarisation properties\n",
    "        p,psi=p,np.radians(psi)\n",
    "\n",
    "        mod_factor_split=np.array_split(modulation_factor,6)\n",
    "        #print('mod factor split',mod_factor_split)\n",
    "        split_tag=list(range(len(mod_factor_split)))\n",
    "        mod_factor_split_tagged=list(zip(mod_factor_split,split_tag))\n",
    "        #print('mod split tag 0',mod_factor_split_tagged[0])\n",
    "        #print('mod split tag 1',mod_factor_split_tagged[1])\n",
    "        cdf_func_partial=partial(cdf_func,p=p,psi=psi)\n",
    "        \n",
    "\n",
    "        \n",
    "        \n",
    "        with Pool(processes=cpu_num) as pool:\n",
    "            result = pool.map(cdf_func_partial, mod_factor_split_tagged)\n",
    "            #print(result)"
   ]
  },
  {
   "cell_type": "code",
   "execution_count": 701,
   "id": "19897382-41c6-4e76-891f-f7c6a3d1cbcb",
   "metadata": {},
   "outputs": [
    {
     "name": "stdout",
     "output_type": "stream",
     "text": [
      "mod factor [0.06472739 0.36566678 0.30120802 ... 0.33147737 0.21009068 0.19424   ]\n",
      "0.12589531899993744\n"
     ]
    }
   ],
   "source": [
    "start=time.process_time()\n",
    "new_null_original_par2('cygx1_may','1','/home/c2032014/PhD/CYGX1_MAY/ixpe01002901_det1_evt1pt5_v01.fits','/home/c2032014/PhD/muE.txt',51,200,4,-18,6)\n",
    "stop=time.process_time()\n",
    "print(stop-start)"
   ]
  },
  {
   "cell_type": "code",
   "execution_count": 519,
   "id": "3187af97-e0e7-4ef6-87e8-4d587aad6ff0",
   "metadata": {
    "tags": []
   },
   "outputs": [
    {
     "ename": "KeyboardInterrupt",
     "evalue": "",
     "output_type": "error",
     "traceback": [
      "\u001b[0;31m---------------------------------------------------------------------------\u001b[0m",
      "\u001b[0;31mKeyboardInterrupt\u001b[0m                         Traceback (most recent call last)",
      "Cell \u001b[0;32mIn[519], line 2\u001b[0m\n\u001b[1;32m      1\u001b[0m start\u001b[38;5;241m=\u001b[39mtime\u001b[38;5;241m.\u001b[39mprocess_time()\n\u001b[0;32m----> 2\u001b[0m \u001b[43mnew_null_original_par2\u001b[49m\u001b[43m(\u001b[49m\u001b[38;5;124;43m'\u001b[39;49m\u001b[38;5;124;43mcygx1_may\u001b[39;49m\u001b[38;5;124;43m'\u001b[39;49m\u001b[43m,\u001b[49m\u001b[38;5;124;43m'\u001b[39;49m\u001b[38;5;124;43m2\u001b[39;49m\u001b[38;5;124;43m'\u001b[39;49m\u001b[43m,\u001b[49m\u001b[38;5;124;43m'\u001b[39;49m\u001b[38;5;124;43m/home/c2032014/PhD/CYGX1_MAY/ixpe01002901_det2_evt1pt5_v01.fits\u001b[39;49m\u001b[38;5;124;43m'\u001b[39;49m\u001b[43m,\u001b[49m\u001b[38;5;124;43m'\u001b[39;49m\u001b[38;5;124;43m/home/c2032014/PhD/muE.txt\u001b[39;49m\u001b[38;5;124;43m'\u001b[39;49m\u001b[43m,\u001b[49m\u001b[38;5;241;43m51\u001b[39;49m\u001b[43m,\u001b[49m\u001b[38;5;241;43m200\u001b[39;49m\u001b[43m,\u001b[49m\u001b[38;5;241;43m4\u001b[39;49m\u001b[43m,\u001b[49m\u001b[38;5;241;43m-\u001b[39;49m\u001b[38;5;241;43m18\u001b[39;49m\u001b[43m,\u001b[49m\u001b[38;5;241;43m6\u001b[39;49m\u001b[43m)\u001b[49m\n\u001b[1;32m      3\u001b[0m stop\u001b[38;5;241m=\u001b[39mtime\u001b[38;5;241m.\u001b[39mprocess_time()\n\u001b[1;32m      4\u001b[0m \u001b[38;5;28mprint\u001b[39m(stop\u001b[38;5;241m-\u001b[39mstart)\n",
      "Cell \u001b[0;32mIn[518], line 77\u001b[0m, in \u001b[0;36mnew_null_original_par2\u001b[0;34m(source_name, data_number, file, mue_file, Pmin, Pmax, p, psi, cpu_num)\u001b[0m\n\u001b[1;32m     71\u001b[0m cdf_func_partial\u001b[38;5;241m=\u001b[39mpartial(cdf_func,p\u001b[38;5;241m=\u001b[39mp,psi\u001b[38;5;241m=\u001b[39mpsi,source_name\u001b[38;5;241m=\u001b[39msource_name,data_number\u001b[38;5;241m=\u001b[39mdata_number)\n\u001b[1;32m     76\u001b[0m \u001b[38;5;28;01mwith\u001b[39;00m Pool(processes\u001b[38;5;241m=\u001b[39mcpu_num) \u001b[38;5;28;01mas\u001b[39;00m pool:\n\u001b[0;32m---> 77\u001b[0m     result \u001b[38;5;241m=\u001b[39m \u001b[43mpool\u001b[49m\u001b[38;5;241;43m.\u001b[39;49m\u001b[43mmap\u001b[49m\u001b[43m(\u001b[49m\u001b[43mcdf_func_partial\u001b[49m\u001b[43m,\u001b[49m\u001b[43m \u001b[49m\u001b[43mmod_factor_split_tagged\u001b[49m\u001b[43m)\u001b[49m\n",
      "File \u001b[0;32m/usr/lib/python3.10/multiprocessing/pool.py:367\u001b[0m, in \u001b[0;36mPool.map\u001b[0;34m(self, func, iterable, chunksize)\u001b[0m\n\u001b[1;32m    362\u001b[0m \u001b[38;5;28;01mdef\u001b[39;00m \u001b[38;5;21mmap\u001b[39m(\u001b[38;5;28mself\u001b[39m, func, iterable, chunksize\u001b[38;5;241m=\u001b[39m\u001b[38;5;28;01mNone\u001b[39;00m):\n\u001b[1;32m    363\u001b[0m \u001b[38;5;250m    \u001b[39m\u001b[38;5;124;03m'''\u001b[39;00m\n\u001b[1;32m    364\u001b[0m \u001b[38;5;124;03m    Apply `func` to each element in `iterable`, collecting the results\u001b[39;00m\n\u001b[1;32m    365\u001b[0m \u001b[38;5;124;03m    in a list that is returned.\u001b[39;00m\n\u001b[1;32m    366\u001b[0m \u001b[38;5;124;03m    '''\u001b[39;00m\n\u001b[0;32m--> 367\u001b[0m     \u001b[38;5;28;01mreturn\u001b[39;00m \u001b[38;5;28;43mself\u001b[39;49m\u001b[38;5;241;43m.\u001b[39;49m\u001b[43m_map_async\u001b[49m\u001b[43m(\u001b[49m\u001b[43mfunc\u001b[49m\u001b[43m,\u001b[49m\u001b[43m \u001b[49m\u001b[43miterable\u001b[49m\u001b[43m,\u001b[49m\u001b[43m \u001b[49m\u001b[43mmapstar\u001b[49m\u001b[43m,\u001b[49m\u001b[43m \u001b[49m\u001b[43mchunksize\u001b[49m\u001b[43m)\u001b[49m\u001b[38;5;241;43m.\u001b[39;49m\u001b[43mget\u001b[49m\u001b[43m(\u001b[49m\u001b[43m)\u001b[49m\n",
      "File \u001b[0;32m/usr/lib/python3.10/multiprocessing/pool.py:768\u001b[0m, in \u001b[0;36mApplyResult.get\u001b[0;34m(self, timeout)\u001b[0m\n\u001b[1;32m    767\u001b[0m \u001b[38;5;28;01mdef\u001b[39;00m \u001b[38;5;21mget\u001b[39m(\u001b[38;5;28mself\u001b[39m, timeout\u001b[38;5;241m=\u001b[39m\u001b[38;5;28;01mNone\u001b[39;00m):\n\u001b[0;32m--> 768\u001b[0m     \u001b[38;5;28;43mself\u001b[39;49m\u001b[38;5;241;43m.\u001b[39;49m\u001b[43mwait\u001b[49m\u001b[43m(\u001b[49m\u001b[43mtimeout\u001b[49m\u001b[43m)\u001b[49m\n\u001b[1;32m    769\u001b[0m     \u001b[38;5;28;01mif\u001b[39;00m \u001b[38;5;129;01mnot\u001b[39;00m \u001b[38;5;28mself\u001b[39m\u001b[38;5;241m.\u001b[39mready():\n\u001b[1;32m    770\u001b[0m         \u001b[38;5;28;01mraise\u001b[39;00m \u001b[38;5;167;01mTimeoutError\u001b[39;00m\n",
      "File \u001b[0;32m/usr/lib/python3.10/multiprocessing/pool.py:765\u001b[0m, in \u001b[0;36mApplyResult.wait\u001b[0;34m(self, timeout)\u001b[0m\n\u001b[1;32m    764\u001b[0m \u001b[38;5;28;01mdef\u001b[39;00m \u001b[38;5;21mwait\u001b[39m(\u001b[38;5;28mself\u001b[39m, timeout\u001b[38;5;241m=\u001b[39m\u001b[38;5;28;01mNone\u001b[39;00m):\n\u001b[0;32m--> 765\u001b[0m     \u001b[38;5;28;43mself\u001b[39;49m\u001b[38;5;241;43m.\u001b[39;49m\u001b[43m_event\u001b[49m\u001b[38;5;241;43m.\u001b[39;49m\u001b[43mwait\u001b[49m\u001b[43m(\u001b[49m\u001b[43mtimeout\u001b[49m\u001b[43m)\u001b[49m\n",
      "File \u001b[0;32m/usr/lib/python3.10/threading.py:607\u001b[0m, in \u001b[0;36mEvent.wait\u001b[0;34m(self, timeout)\u001b[0m\n\u001b[1;32m    605\u001b[0m signaled \u001b[38;5;241m=\u001b[39m \u001b[38;5;28mself\u001b[39m\u001b[38;5;241m.\u001b[39m_flag\n\u001b[1;32m    606\u001b[0m \u001b[38;5;28;01mif\u001b[39;00m \u001b[38;5;129;01mnot\u001b[39;00m signaled:\n\u001b[0;32m--> 607\u001b[0m     signaled \u001b[38;5;241m=\u001b[39m \u001b[38;5;28;43mself\u001b[39;49m\u001b[38;5;241;43m.\u001b[39;49m\u001b[43m_cond\u001b[49m\u001b[38;5;241;43m.\u001b[39;49m\u001b[43mwait\u001b[49m\u001b[43m(\u001b[49m\u001b[43mtimeout\u001b[49m\u001b[43m)\u001b[49m\n\u001b[1;32m    608\u001b[0m \u001b[38;5;28;01mreturn\u001b[39;00m signaled\n",
      "File \u001b[0;32m/usr/lib/python3.10/threading.py:320\u001b[0m, in \u001b[0;36mCondition.wait\u001b[0;34m(self, timeout)\u001b[0m\n\u001b[1;32m    318\u001b[0m \u001b[38;5;28;01mtry\u001b[39;00m:    \u001b[38;5;66;03m# restore state no matter what (e.g., KeyboardInterrupt)\u001b[39;00m\n\u001b[1;32m    319\u001b[0m     \u001b[38;5;28;01mif\u001b[39;00m timeout \u001b[38;5;129;01mis\u001b[39;00m \u001b[38;5;28;01mNone\u001b[39;00m:\n\u001b[0;32m--> 320\u001b[0m         \u001b[43mwaiter\u001b[49m\u001b[38;5;241;43m.\u001b[39;49m\u001b[43macquire\u001b[49m\u001b[43m(\u001b[49m\u001b[43m)\u001b[49m\n\u001b[1;32m    321\u001b[0m         gotit \u001b[38;5;241m=\u001b[39m \u001b[38;5;28;01mTrue\u001b[39;00m\n\u001b[1;32m    322\u001b[0m     \u001b[38;5;28;01melse\u001b[39;00m:\n",
      "\u001b[0;31mKeyboardInterrupt\u001b[0m: "
     ]
    }
   ],
   "source": [
    "start=time.process_time()\n",
    "new_null_original_par2('cygx1_may','2','/home/c2032014/PhD/CYGX1_MAY/ixpe01002901_det2_evt1pt5_v01.fits','/home/c2032014/PhD/muE.txt',51,200,4,-18,6)\n",
    "stop=time.process_time()\n",
    "print(stop-start)"
   ]
  },
  {
   "cell_type": "code",
   "execution_count": 515,
   "id": "07e28014-da61-43fc-808c-a004045c473a",
   "metadata": {
    "tags": []
   },
   "outputs": [
    {
     "name": "stderr",
     "output_type": "stream",
     "text": [
      "IOPub data rate exceeded.\n",
      "The Jupyter server will temporarily stop sending output\n",
      "to the client in order to avoid crashing it.\n",
      "To change this limit, set the config variable\n",
      "`--ServerApp.iopub_data_rate_limit`.\n",
      "\n",
      "Current values:\n",
      "ServerApp.iopub_data_rate_limit=1000000.0 (bytes/sec)\n",
      "ServerApp.rate_limit_window=3.0 (secs)\n",
      "\n"
     ]
    },
    {
     "name": "stdout",
     "output_type": "stream",
     "text": [
      "\n"
     ]
    },
    {
     "name": "stderr",
     "output_type": "stream",
     "text": [
      "IOPub data rate exceeded.\n",
      "The Jupyter server will temporarily stop sending output\n",
      "to the client in order to avoid crashing it.\n",
      "To change this limit, set the config variable\n",
      "`--ServerApp.iopub_data_rate_limit`.\n",
      "\n",
      "Current values:\n",
      "ServerApp.iopub_data_rate_limit=1000000.0 (bytes/sec)\n",
      "ServerApp.rate_limit_window=3.0 (secs)\n",
      "\n"
     ]
    },
    {
     "name": "stdout",
     "output_type": "stream",
     "text": [
      "\n"
     ]
    },
    {
     "name": "stderr",
     "output_type": "stream",
     "text": [
      "IOPub data rate exceeded.\n",
      "The Jupyter server will temporarily stop sending output\n",
      "to the client in order to avoid crashing it.\n",
      "To change this limit, set the config variable\n",
      "`--ServerApp.iopub_data_rate_limit`.\n",
      "\n",
      "Current values:\n",
      "ServerApp.iopub_data_rate_limit=1000000.0 (bytes/sec)\n",
      "ServerApp.rate_limit_window=3.0 (secs)\n",
      "\n"
     ]
    },
    {
     "name": "stdout",
     "output_type": "stream",
     "text": [
      "\n"
     ]
    },
    {
     "name": "stderr",
     "output_type": "stream",
     "text": [
      "IOPub data rate exceeded.\n",
      "The Jupyter server will temporarily stop sending output\n",
      "to the client in order to avoid crashing it.\n",
      "To change this limit, set the config variable\n",
      "`--ServerApp.iopub_data_rate_limit`.\n",
      "\n",
      "Current values:\n",
      "ServerApp.iopub_data_rate_limit=1000000.0 (bytes/sec)\n",
      "ServerApp.rate_limit_window=3.0 (secs)\n",
      "\n"
     ]
    },
    {
     "name": "stdout",
     "output_type": "stream",
     "text": [
      "\n"
     ]
    },
    {
     "name": "stderr",
     "output_type": "stream",
     "text": [
      "IOPub data rate exceeded.\n",
      "The Jupyter server will temporarily stop sending output\n",
      "to the client in order to avoid crashing it.\n",
      "To change this limit, set the config variable\n",
      "`--ServerApp.iopub_data_rate_limit`.\n",
      "\n",
      "Current values:\n",
      "ServerApp.iopub_data_rate_limit=1000000.0 (bytes/sec)\n",
      "ServerApp.rate_limit_window=3.0 (secs)\n",
      "\n"
     ]
    },
    {
     "name": "stdout",
     "output_type": "stream",
     "text": [
      "\n"
     ]
    },
    {
     "name": "stderr",
     "output_type": "stream",
     "text": [
      "IOPub data rate exceeded.\n",
      "The Jupyter server will temporarily stop sending output\n",
      "to the client in order to avoid crashing it.\n",
      "To change this limit, set the config variable\n",
      "`--ServerApp.iopub_data_rate_limit`.\n",
      "\n",
      "Current values:\n",
      "ServerApp.iopub_data_rate_limit=1000000.0 (bytes/sec)\n",
      "ServerApp.rate_limit_window=3.0 (secs)\n",
      "\n"
     ]
    },
    {
     "name": "stdout",
     "output_type": "stream",
     "text": [
      "\n",
      "1.6535850980001214\n"
     ]
    }
   ],
   "source": [
    "start=time.process_time()\n",
    "new_null_original_par2('cygx1_may','3','/home/c2032014/PhD/CYGX1_MAY/ixpe01002901_det3_evt1pt5_v01.fits','/home/c2032014/PhD/muE.txt',51,200,4,-18,6)\n",
    "stop=time.process_time()\n",
    "print(stop-start)"
   ]
  },
  {
   "cell_type": "markdown",
   "id": "0475079d-0ab4-47e1-84df-52e624d53635",
   "metadata": {},
   "source": [
    "[array(0.84763735), array(0.96078482), array(0.73307765), array(2.07271659), array(2.22675435), array(0.90505637), array(0.86080189), array(2.07271659), array(1.0245784), array(2.09207874), array(0.81840052), array(0.77190476), array(0.77882672), array(1.98588886), array(0.80802706), array(2.09207874), array(0.78311764), array(2.11052952), array(0.86456749), array(2.03117721), array(1.04737349), array(0.76525387), array(0.8818795), array(0.91228338), array(2.16072953), array(0.87718562), array(2.20291128), array(0.81486497), array(0.88691317), array(0.91228338), array(2.05242021), array(0.80635882), array(2.14481986), array(0.83950962), array(1.0245784), array(0.97386961), array(0.89845583), array(2.17572184), array(2.21522442), array(0.86854454), array(2.16072953), array(2.07271659), array(2.18976253), array(2.17572184), array(0.93847906), array(2.09207874), array(0.77602421), array(0.93847906), array(1.04737349), array(0.86456749), array(0.98857225), array(2.18976253), array(0.92020513), array(2.12809835), array(1.00526835), array(0.79984332), array(1.96224231), array(2.11052952), array(0.83950962), array(0.73625503), array(0.83475504), array(2.00898888), array(0.8818795), array(0.74937146), array(0.92020513), array(2.00898888), array(0.92020513), array(0.86080189), array(2.12809835)"
   ]
  },
  {
   "cell_type": "code",
   "execution_count": 510,
   "id": "38eea5bc-0bcb-417f-a916-92781c18e0b5",
   "metadata": {
    "tags": []
   },
   "outputs": [
    {
     "name": "stdout",
     "output_type": "stream",
     "text": [
      "[0.84763735 0.96078482 0.73307765 2.07271659 2.22675435 0.90505637\n",
      " 0.86080189 2.07271659 1.0245784  2.09207874 0.81840052 0.77190476]\n",
      "[0.77882672 1.98588886 0.80802706 2.09207874 0.78311764 2.11052952\n",
      " 0.86456749 2.03117721 1.04737349 0.76525387 0.8818795  0.91228338]\n",
      "[2.16072953 0.87718562 2.20291128 0.81486497 0.88691317 0.91228338\n",
      " 2.05242021 0.80635882 2.14481986 0.83950962 1.0245784  0.97386961]\n",
      "[0.89845583 2.17572184 2.21522442 0.86854454 2.16072953 2.07271659\n",
      " 2.18976253 2.17572184 0.93847906 2.09207874 0.77602421]\n",
      "[0.93847906 1.04737349 0.86456749 0.98857225 2.18976253 0.92020513\n",
      " 2.12809835 1.00526835 0.79984332 1.96224231 2.11052952]\n",
      "[0.83950962 0.73625503 0.83475504 2.00898888 0.8818795  0.74937146\n",
      " 0.92020513 2.00898888 0.92020513 0.86080189 2.12809835]\n"
     ]
    }
   ],
   "source": [
    "y=np.load('/home/c2032014/PhD/Results/new_null/0_mod_angles_newnull.npy')\n",
    "print(y)\n",
    "\n",
    "\n",
    "y=np.load('/home/c2032014/PhD/Results/new_null/1_mod_angles_newnull.npy')\n",
    "print(y)\n",
    "\n",
    "y=np.load('/home/c2032014/PhD/Results/new_null/2_mod_angles_newnull.npy')\n",
    "print(y)\n",
    "\n",
    "y=np.load('/home/c2032014/PhD/Results/new_null/3_mod_angles_newnull.npy')\n",
    "print(y)\n",
    "\n",
    "y=np.load('/home/c2032014/PhD/Results/new_null/4_mod_angles_newnull.npy')\n",
    "print(y)\n",
    "\n",
    "y=np.load('/home/c2032014/PhD/Results/new_null/5_mod_angles_newnull.npy')\n",
    "print(y)\n",
    "\n",
    "import numpy as np\n",
    "\n",
    "# List of file names\n",
    "file_names = ['/home/c2032014/PhD/Results/new_null/0_mod_angles_newnull.npy', '/home/c2032014/PhD/Results/new_null/1_mod_angles_newnull.npy', '/home/c2032014/PhD/Results/new_null/2_mod_angles_newnull.npy','/home/c2032014/PhD/Results/new_null/3_mod_angles_newnull.npy','/home/c2032014/PhD/Results/new_null/4_mod_angles_newnull.npy','/home/c2032014/PhD/Results/new_null/5_mod_angles_newnull.npy']\n",
    "\n",
    "# Use a list comprehension to load all files into a list of arrays\n",
    "arrays = [np.load(file_name) for file_name in file_names]\n",
    "\n",
    "# Concatenate the arrays along the specified axis (axis=0 in this case)\n",
    "result_array = np.concatenate(arrays, axis=0)\n",
    "\n",
    "# Save the concatenated array to a new file\n",
    "np.savetxt('/home/c2032014/PhD/Results/new_null/new_null_cygx1_may_1_test.txt', result_array)"
   ]
  },
  {
   "cell_type": "code",
   "execution_count": 511,
   "id": "b2d46392-a1d0-4a25-802a-d5739305d584",
   "metadata": {
    "tags": []
   },
   "outputs": [
    {
     "data": {
      "text/plain": [
       "array([0.84763735, 0.96078482, 0.73307765, 2.07271659, 2.22675435,\n",
       "       0.90505637, 0.86080189, 2.07271659, 1.0245784 , 2.09207874,\n",
       "       0.81840052, 0.77190476, 0.77882672, 1.98588886, 0.80802706,\n",
       "       2.09207874, 0.78311764, 2.11052952, 0.86456749, 2.03117721,\n",
       "       1.04737349, 0.76525387, 0.8818795 , 0.91228338, 2.16072953,\n",
       "       0.87718562, 2.20291128, 0.81486497, 0.88691317, 0.91228338,\n",
       "       2.05242021, 0.80635882, 2.14481986, 0.83950962, 1.0245784 ,\n",
       "       0.97386961, 0.89845583, 2.17572184, 2.21522442, 0.86854454,\n",
       "       2.16072953, 2.07271659, 2.18976253, 2.17572184, 0.93847906,\n",
       "       2.09207874, 0.77602421, 0.93847906, 1.04737349, 0.86456749,\n",
       "       0.98857225, 2.18976253, 0.92020513, 2.12809835, 1.00526835,\n",
       "       0.79984332, 1.96224231, 2.11052952, 0.83950962, 0.73625503,\n",
       "       0.83475504, 2.00898888, 0.8818795 , 0.74937146, 0.92020513,\n",
       "       2.00898888, 0.92020513, 0.86080189, 2.12809835])"
      ]
     },
     "execution_count": 511,
     "metadata": {},
     "output_type": "execute_result"
    }
   ],
   "source": [
    "p=np.loadtxt('/home/c2032014/PhD/Results/new_null/new_null_cygx1_may_1_test.txt')\n",
    "p"
   ]
  },
  {
   "cell_type": "code",
   "execution_count": 125,
   "id": "9298c292-560b-4a28-ac81-33c9334d7d31",
   "metadata": {
    "tags": []
   },
   "outputs": [
    {
     "data": {
      "text/plain": [
       "[3, 4]"
      ]
     },
     "execution_count": 125,
     "metadata": {},
     "output_type": "execute_result"
    }
   ],
   "source": [
    "a=[3]\n",
    "b=[4]\n",
    "c=a+b\n",
    "c"
   ]
  },
  {
   "cell_type": "code",
   "execution_count": 458,
   "id": "6a35893d-aa5f-4cea-a553-ff3e9bfc6d55",
   "metadata": {
    "tags": []
   },
   "outputs": [],
   "source": [
    "def new_null_original_par(source_name,data_number,file,mue_file,Pmin,Pmax,p,psi):\n",
    "    with fits.open(file) as hdu:\n",
    "        data=hdu[1].data[:1000]\n",
    "        \n",
    "        #index_qual=list(locate(data.field('QUAL'), lambda x: x==1))  #quality factor cut\n",
    "        data=data[list(locate(data.field('QUAL'), lambda x: x==1))]\n",
    "\n",
    "        #index_energy=list(locate(data.field('PI'), lambda x: Pmin < x < Pmax))  #energy cut \n",
    "        data=data[list(locate(data.field('PI'), lambda x: Pmin < x < Pmax))]\n",
    "        \n",
    "        \n",
    "        #determine mod factor per event\n",
    "        \n",
    "        #PI=data.field('PI')\n",
    "        mue=np.loadtxt(mue_file)[:,2]\n",
    "        #mue=mue_txt[:,2]\n",
    "\n",
    "        modulation_factor=np.array([mue[int(i)] for i in data.field('PI')])\n",
    "        #for i in data.field('PI'):\n",
    "        #    modulation_factor.append(mue[int(i)])\n",
    "\n",
    "\n",
    "\n",
    "        #polarisation properties\n",
    "        p,psi=p,np.radians(psi)\n",
    "\n",
    "        mod_angle_array=[]\n",
    "        \n",
    "        #print('ere we go')\n",
    "        mod_angle_array1=[]\n",
    "        def loop1():\n",
    "            for mod_fac in modulation_factor[:len(modulation_factor)//2]:\n",
    "                cdf=(lambda i: (1/np.pi) * (i -  (((mod_fac*p) / 2) * np.sin(2*psi - 2*i)) ) ) \n",
    "                cdf_min,cdf_max=cdf(np.radians(0)),cdf(np.radians(180))\n",
    "                random=np.random.uniform(cdf_min,cdf_max)\n",
    "                mod_angle_array1.append(inversefunc(cdf, y_values=random))\n",
    "                #mod_angle_array.append(mod_angle)\n",
    "         \n",
    "        mod_angle_array2=[]\n",
    "        def loop2():\n",
    "            for mod_fac in modulation_factor[len(modulation_factor)//2:]:\n",
    "                cdf=(lambda i: (1/np.pi) * (i -  (((mod_fac*p) / 2) * np.sin(2*psi - 2*i)) ) ) \n",
    "                cdf_min,cdf_max=cdf(np.radians(0)),cdf(np.radians(180))\n",
    "                random=np.random.uniform(cdf_min,cdf_max)\n",
    "                mod_angle_array2.append(inversefunc(cdf, y_values=random))\n",
    "\n",
    "                \n",
    "        if __name__ == '__main__':\n",
    "            p1 = threading.Thread(target=loop1) #args=(np.array(modulation_factor[:len(modulation_factor)//2]),np.array(random_all[:len(random_all)//2]),))\n",
    "            p2 = threading.Thread(target=loop2) #args=(modulation_factor[len(modulation_factor)//2:],random_all[len(random_all)//2:],))\n",
    "            p1.start()\n",
    "            p2.start()\n",
    "   #         # wait for the processes to finish\n",
    "            p1.join()\n",
    "            p2.join()\n",
    "\n",
    "\n",
    "        \n",
    "        #print(len(mod_angle_array))\n",
    "        np.savetxt('/home/c2032014/PhD/Results/new_null/'+str(source_name)+'_'+str(data_number)+'_.txt',mod_angle_array1+mod_angle_array2)\n",
    "        \n",
    "        \n",
    "        \n"
   ]
  },
  {
   "cell_type": "code",
   "execution_count": null,
   "id": "903efde9-bd27-40e1-bf1c-59e3293a7e6b",
   "metadata": {},
   "outputs": [],
   "source": []
  },
  {
   "cell_type": "code",
   "execution_count": 132,
   "id": "609525b5-4e0f-4293-a599-ba11952b461c",
   "metadata": {
    "tags": []
   },
   "outputs": [
    {
     "name": "stdout",
     "output_type": "stream",
     "text": [
      "0.16583453599999842\n"
     ]
    }
   ],
   "source": [
    "start=time.process_time()\n",
    "new_null_original_par('cygx1_may','1','/home/c2032014/PhD/CYGX1_MAY/ixpe01002901_det1_evt1pt5_v01.fits','/home/c2032014/PhD/muE.txt',51,200,4,-18)\n",
    "stop=time.process_time()\n",
    "print(stop-start)"
   ]
  },
  {
   "cell_type": "code",
   "execution_count": 97,
   "id": "2a346b8a-3443-4b3f-a0da-738db34f2130",
   "metadata": {
    "tags": []
   },
   "outputs": [
    {
     "data": {
      "text/plain": [
       "26.041666666666668"
      ]
     },
     "execution_count": 97,
     "metadata": {},
     "output_type": "execute_result"
    }
   ],
   "source": [
    "(150*5*3*1000)/(60*60*24)"
   ]
  },
  {
   "cell_type": "code",
   "execution_count": 25,
   "id": "de9ad995-469e-4a65-bb2e-24c1000b9a05",
   "metadata": {
    "tags": []
   },
   "outputs": [
    {
     "name": "stdout",
     "output_type": "stream",
     "text": [
      "0.15723221899999906\n"
     ]
    }
   ],
   "source": [
    "start=time.process_time()\n",
    "new_null('cygx1_may_newnull','1','/home/c2032014/PhD/CYGX1_MAY/ixpe01002901_det1_evt1pt5_v01.fits','/home/c2032014/PhD/muE.txt',51,200,4,-18)\n",
    "stop=time.process_time()\n",
    "print(stop-start)"
   ]
  },
  {
   "cell_type": "code",
   "execution_count": 82,
   "id": "56484389-741c-4178-bb1d-aacfb7e1732f",
   "metadata": {
    "tags": []
   },
   "outputs": [],
   "source": [
    "def new_null_opt(source_name,data_number,file,mue_file,Pmin,Pmax,p,psi):\n",
    "    with fits.open(file) as hdu:\n",
    "            data=hdu[1].data[:1000]\n",
    "            #data=data[:100]\n",
    "            #print(len(data))\n",
    "            index_qual=list(locate(data.field('QUAL'), lambda x: x==1))  #quality factor cut\n",
    "            data=data[index_qual]\n",
    "\n",
    "            index_energy=list(locate(data.field('PI'), lambda x: Pmin < x < Pmax))  #energy cut \n",
    "            data=data[index_energy]\n",
    "\n",
    "\n",
    "            #determine mod factor per event\n",
    "\n",
    "            PI=data.field('PI')\n",
    "            mue_txt=np.loadtxt(mue_file)\n",
    "            mue=mue_txt[:,2]\n",
    "\n",
    "            modulation_factor=[mue[int(i)] for i in PI]\n",
    "            #print(modulation_factor[0])\n",
    "            #polarisation properties\n",
    "            p,psi=p,np.radians(psi)\n",
    "           # psi=np.radians(psi)\n",
    "\n",
    "            cdf_vec=np.vectorize((lambda i,mod_fac: (1/np.pi) * (i -  (((mod_fac*p) / 2) * np.sin(2*psi - 2*i)) ) ) )\n",
    "            #cdf_vec=np.vectorize(cdf)\n",
    "            cdf_min=cdf_vec((0),modulation_factor)\n",
    "            #print(cdf_min[0])\n",
    "            cdf_max=cdf_vec((np.radians(180)),modulation_factor)\n",
    "            #print(cdf_max[0])\n",
    "            random=np.random.uniform(cdf_min,cdf_max)\n",
    "            #print(random[0])\n",
    "            #print(range(len(modulation_factor))\n",
    "\n",
    "            #cdf_func=np.vectorize(lambda i:cdf_vec(i,mod_fac=modulation_factor))\n",
    "           # invf=(pynverse.inversefunc)\n",
    "            #print(cdf_func)\n",
    "\n",
    "            mod_angle_array=np.array([inversefunc(lambda x:cdf_vec(x,mod_fac=modulation_factor[g]),y_values=random[g]) for g in range(len(modulation_factor))])\n",
    "\n",
    "            np.savetxt('/home/c2032014/PhD/Results/new_null/'+str(source_name)+'_'+str(data_number)+'_.txt',mod_angle_array)\n",
    "\n"
   ]
  },
  {
   "cell_type": "code",
   "execution_count": 425,
   "id": "7b16fd33-0e39-4c8f-8557-b1f1abfb24da",
   "metadata": {},
   "outputs": [
    {
     "name": "stdout",
     "output_type": "stream",
     "text": [
      "(array([1, 2, 3]), 4)\n",
      "<enumerate object at 0x7f3d1dddbb00>\n",
      "(array([3, 4, 5]), 1)\n",
      "<enumerate object at 0x7f3d1dddbb00>\n"
     ]
    }
   ],
   "source": [
    "split=[(np.array([1,2,3]),4),(np.array([3,4,5]),1)]\n",
    "\n",
    "for i in split:\n",
    "    print(i)\n",
    "    print(enumerate(i[0]))"
   ]
  },
  {
   "cell_type": "raw",
   "id": "c2c5a22f-0d5c-4266-ba53-52158a048413",
   "metadata": {
    "tags": []
   },
   "source": [
    "def new_null_opt(source_name,data_number,file,mue_file,Pmin,Pmax,p,psi):\n",
    "    with fits.open(file) as hdu:\n",
    "        data=hdu[1].data\n",
    "        \n",
    "        index_qual=list(locate(data.field('QUAL'), lambda x: x==1))  #quality factor cut\n",
    "        data=data[index_qual]\n",
    "        \n",
    "        index_energy=list(locate(data.field('PI'), lambda x: Pmin < x < Pmax))  #energy cut \n",
    "        data=data[index_energy]\n",
    "        \n",
    "        \n",
    "        #determine mod factor per event\n",
    "        \n",
    "        PI=data.field('PI')\n",
    "        mue_txt=np.loadtxt(mue_file)\n",
    "        mue=mue_txt[:,2]\n",
    "\n",
    "       # modulation_factor=[]\n",
    "\n",
    "       # for i in PI:\n",
    "       #     modulation_factor.append(mue[int(i)])\n",
    "       # print('old',modulation_factor[67])\n",
    "\n",
    "\n",
    "        modulation_factor_new=[mue[int(i)] for i in PI]\n",
    "       # print('new',modulation_factor_new[67])\n",
    "        \n",
    "        \n",
    "        #polarisation properties\n",
    "        p=p\n",
    "        psi=np.radians(psi)\n",
    "        \n",
    "        cdf=[(lambda i: (1/np.pi) * (i -  (((mod_fac*p) / 2) * np.sin(2*psi - 2*i)) ) ) for mod_fac in modulation_factor]\n",
    "        cdf_min=[(np.radians(0)) for l in cdf]\n",
    "        cdf_max=[m(np.radians(180)) for m in cdf]\n",
    "        random=[np.random.uniform(cdf_min,cdf_max)]\n",
    "        \n",
    "        inverse_func_vec=np.vectorize(pynverse.inversefunc)\n",
    "        mod_angle=inverse_func_vec(cdf,y_values=random)             \n",
    "        #print(cdf[0])\n",
    "        #print(cdf[1])\n",
    "        \n",
    "        \n",
    "        #mod_angle_array=[]\n",
    "        #for mod_fac in modulation_factor:\n",
    "\n",
    "        #    cdf=(lambda i: (1/np.pi) * (i -  (((mod_fac*p) / 2) * np.sin(2*psi - 2*i)) ) ) \n",
    "        #    cdf_min=cdf(np.radians(0))\n",
    "            #print('cdf min:',cdf_min)\n",
    "        #    cdf_max=cdf(np.radians(180))\n",
    "            #print('cdf max',cdf_max)\n",
    "        #    random=np.random.uniform(cdf_min,cdf_max)\n",
    "            #print('random',random)\n",
    "        #    mod_angle=inversefunc(cdf, y_values=random)\n",
    "        #    mod_angle_array.append(mod_angle)\n",
    "            #print(mod_angle_array)\n",
    "\n",
    "\n",
    "        print(len(mod_angle))\n",
    "        np.savetxt('/home/c2032014/PhD/Results/new_null/'+str(source_name)+'_'+str(data_number)+'_.txt',mod_angle_array)\n",
    "        \n",
    "        \n",
    "        \n"
   ]
  },
  {
   "cell_type": "code",
   "execution_count": 83,
   "id": "3457654b-4d04-4eb4-8480-68bbc630fb89",
   "metadata": {
    "tags": []
   },
   "outputs": [],
   "source": [
    "new_null_opt('cygx1_may','1','/home/c2032014/PhD/CYGX1_MAY/ixpe01002901_det1_evt1pt5_v01.fits','/home/c2032014/PhD/muE.txt',51,200,4,-18)"
   ]
  },
  {
   "cell_type": "code",
   "execution_count": 84,
   "id": "f9c0912d-28c8-4e6f-b0cf-e84315607cc7",
   "metadata": {
    "tags": []
   },
   "outputs": [
    {
     "name": "stdout",
     "output_type": "stream",
     "text": [
      "0.3004235289999997\n"
     ]
    }
   ],
   "source": [
    "start=time.process_time()\n",
    "new_null_opt('cygx1_may','1','/home/c2032014/PhD/CYGX1_MAY/ixpe01002901_det1_evt1pt5_v01.fits','/home/c2032014/PhD/muE.txt',51,200,4,-18)\n",
    "stop=time.process_time()\n",
    "print(stop-start)"
   ]
  },
  {
   "cell_type": "code",
   "execution_count": 58,
   "id": "52c16f04-a8fe-4b52-bf05-14353484b6fd",
   "metadata": {
    "tags": []
   },
   "outputs": [],
   "source": [
    "def new_null_opt_par(source_name,data_number,file,mue_file,Pmin,Pmax,p,psi):\n",
    "    with fits.open(file) as hdu:\n",
    "            data=hdu[1].data[:1000]\n",
    "            #data=data[:100]\n",
    "            #print(len(data))\n",
    "            index_qual=list(locate(data.field('QUAL'), lambda x: x==1))  #quality factor cut\n",
    "            data=data[index_qual]\n",
    "\n",
    "            index_energy=list(locate(data.field('PI'), lambda x: Pmin < x < Pmax))  #energy cut \n",
    "            data=data[index_energy]\n",
    "\n",
    "\n",
    "            #determine mod factor per event\n",
    "\n",
    "            PI=data.field('PI')\n",
    "            mue_txt=np.loadtxt(mue_file)\n",
    "            mue=mue_txt[:,2]\n",
    "\n",
    "            modulation_factor=[mue[int(i)] for i in PI]\n",
    "            #print(modulation_factor[0])\n",
    "            #polarisation properties\n",
    "            p,psi=p,np.radians(psi)\n",
    "           # psi=np.radians(psi)\n",
    "\n",
    "            cdf_vec=np.vectorize((lambda i,mod_fac: (1/np.pi) * (i -  (((mod_fac*p) / 2) * np.sin(2*psi - 2*i)) ) ) )\n",
    "            #cdf_vec=np.vectorize(cdf)\n",
    "            cdf_min=cdf_vec((0),modulation_factor)\n",
    "            #print(cdf_min[0])\n",
    "            cdf_max=cdf_vec((np.radians(180)),modulation_factor)\n",
    "            #print(cdf_max[0])\n",
    "            random=np.random.uniform(cdf_min,cdf_max)\n",
    "            #print(random[0])\n",
    "          \n",
    "           \n",
    "            def compute_mod_angle(g):\n",
    "                return np.array([inversefunc(lambda x:cdf_vec(x,mod_fac=modulation_factor[g]),y_values=random[g]) for g in range(len(modulation_factor))])\n",
    "            \n",
    "\n",
    "            with ThreadPoolExecutor() as executor:\n",
    "                mod_angle_array = np.array(list(executor.map(compute_mod_angle, range(len(modulation_factor)))))\n",
    "\n",
    "            \n",
    "            \n",
    "            #mod_angle_array=np.array([inversefunc(lambda x:cdf_vec(x,mod_fac=modulation_factor[g]),y_values=random[g]) for g in range(len(modulation_factor))])\n",
    "\n",
    "            np.savetxt('/mnt/zfsusers/ixpemel/Results/new_null/'+str(source_name)+'_'+str(data_number)+'_.txt',mod_angle_array)\n",
    "\n"
   ]
  },
  {
   "cell_type": "raw",
   "id": "6c854e04-7baa-4ac5-b534-5bcffb5b7f22",
   "metadata": {
    "tags": []
   },
   "source": [
    "start=time.process_time()\n",
    "new_null_opt_par('cygx1_may','1','/home/c2032014/PhD/CYGX1_MAY/ixpe01002901_det1_evt1pt5_v01.fits','/home/c2032014/PhD/muE.txt',51,200,4,-18)\n",
    "stop=time.process_time()\n",
    "print(stop-start)"
   ]
  },
  {
   "cell_type": "code",
   "execution_count": 527,
   "id": "9dec8529-fcf2-49ce-882a-05b04ad96fc4",
   "metadata": {
    "tags": []
   },
   "outputs": [
    {
     "name": "stdout",
     "output_type": "stream",
     "text": [
      "[0, 1, 2, 3, 4, 5, 6, 7, 8, 9, 10, 11, 12, 13, 14, 15, 16, 17, 18, 19, 20, 21, 22, 23, 24, 25, 26, 27, 28, 29]\n"
     ]
    }
   ],
   "source": [
    "cpu_num=30\n",
    "cpu_list=list(range(0,cpu_num))\n",
    "print(cpu_list)"
   ]
  },
  {
   "cell_type": "code",
   "execution_count": 529,
   "id": "bbc8b2da-7a00-40ae-a3bc-8c1b8a87b174",
   "metadata": {
    "tags": []
   },
   "outputs": [],
   "source": [
    "#function for concatenating the new modulation angle files\n",
    "\n",
    "def new_null_concatenate(source_name,data_number,cpu_num):\n",
    "    cpu_num=cpu_num\n",
    "    cpu_list=list(range(0,cpu_num))\n",
    "    file_names=[]\n",
    "    for cpu_num in cpu_list:\n",
    "        for mod_file in glob.iglob(f'Results/new_null_{source_name}_{data_number}_{cpu_num}_.fits'): \n",
    "                file_names.append(mod_file)\n",
    "\n",
    "        arrays = [np.load(file_name) for file_name in file_names]\n",
    "        result_array = np.concatenate(arrays, axis=0)\n",
    "        np.savetxt(f'/mnt/zfsusers/ixpemel/new_null/new_null_{source_name}_{data_number}_total_mod_angle.txt', result_array)\n",
    "\n",
    "        \n",
    "            \n",
    "        \n",
    "        \n",
    "        \n",
    "        \n",
    "        \n",
    "        \n",
    "\n",
    "            \n",
    "           "
   ]
  }
 ],
 "metadata": {
  "kernelspec": {
   "display_name": "virtual_environment",
   "language": "python",
   "name": "virtual_environment"
  },
  "language_info": {
   "codemirror_mode": {
    "name": "ipython",
    "version": 3
   },
   "file_extension": ".py",
   "mimetype": "text/x-python",
   "name": "python",
   "nbconvert_exporter": "python",
   "pygments_lexer": "ipython3",
   "version": "3.10.12"
  }
 },
 "nbformat": 4,
 "nbformat_minor": 5
}
